{
 "cells": [
  {
   "cell_type": "code",
   "execution_count": 1,
   "id": "b18df2de-e889-4c79-b0d3-1512beeccbeb",
   "metadata": {},
   "outputs": [],
   "source": [
    "import os\n",
    "import matplotlib.pyplot as plt\n",
    "import math\n",
    "import cv2\n",
    "import numpy as np"
   ]
  },
  {
   "cell_type": "code",
   "execution_count": 2,
   "id": "4d1fd0fc-fa37-44ce-b42f-4db8dd10e3ea",
   "metadata": {},
   "outputs": [],
   "source": [
    "sources_coordinates_file = open('coordinates.txt', 'r')\n",
    "sources_coordinates_lines = sources_coordinates_file.readlines()"
   ]
  },
  {
   "cell_type": "code",
   "execution_count": 3,
   "id": "d7138dcc-4c47-474b-98f6-ec84185280aa",
   "metadata": {},
   "outputs": [],
   "source": [
    "converted_lines = []\n",
    "for line in sources_coordinates_lines:\n",
    "    integers = [str(int(float(num))) for num in line.split(\",\")]\n",
    "    converted_lines.append(\", \".join(integers))"
   ]
  },
  {
   "cell_type": "code",
   "execution_count": 4,
   "id": "1c83bcc2-8624-45a3-ac75-ba85c636842e",
   "metadata": {},
   "outputs": [],
   "source": [
    "NUM_IMAGES_TRAINING_SET = 3400"
   ]
  },
  {
   "cell_type": "code",
   "execution_count": 5,
   "id": "a2ff1497-7f85-4cdd-8274-0b1c7e59adf7",
   "metadata": {},
   "outputs": [],
   "source": [
    "import re\n",
    "data_path = '/Users/antonyzappacosta/Desktop/gamma_sources_identification/CNN_project/dataset'\n",
    "# ASSUMING WE ARE DOING BINARY CLASSIFICATION\n",
    "def load_data():\n",
    "    # let's put directly images inside these arrays and not only image paths\n",
    "    x_train = []\n",
    "    y_train_loc = []\n",
    "    x_test = []\n",
    "    y_test_loc = []\n",
    "\n",
    "    train_bkg_count = 0\n",
    "    train_src_count = 0\n",
    "\n",
    "    for img_name in os.listdir(data_path):\n",
    "        img_full_path = data_path + '/' + img_name\n",
    "        #print(img_full_path)\n",
    "        image = cv2.imread(img_full_path, cv2.IMREAD_GRAYSCALE)\n",
    "        image = cv2.pyrDown(image)\n",
    "        image = cv2.pyrDown(image)\n",
    "        image = cv2.pyrDown(image)\n",
    "        img_index = int(re.findall('\\d+', img_name )[0])\n",
    "        source_x = int(converted_lines[img_index].split(\",\")[1])\n",
    "        source_y = int(converted_lines[img_index].split(\",\")[2])\n",
    "        source_coordinates = (source_x, source_y)\n",
    "        \n",
    "        if train_src_count < NUM_IMAGES_TRAINING_SET:\n",
    "            x_train.append(image)\n",
    "            y_train_loc.append(source_coordinates)\n",
    "            train_src_count += 1\n",
    "        else: # append in test set\n",
    "            x_test.append(image)\n",
    "            y_test_loc.append(source_coordinates)\n",
    "            train_src_count += 1\n",
    "\n",
    "    x_train = np.array(x_train)\n",
    "    y_train_loc = np.array(y_train_loc)\n",
    "    x_test = np.array(x_test)\n",
    "    y_test_loc = np.array(y_test_loc)\n",
    "    \n",
    "    #return (x_train, y_train), (x_test, y_test)\n",
    "    return (x_train, y_train_loc), (x_test, y_test_loc)"
   ]
  },
  {
   "cell_type": "code",
   "execution_count": 6,
   "id": "c5f43b07-d015-4a4d-b4a9-3cfcd4bbe68e",
   "metadata": {},
   "outputs": [],
   "source": [
    "#(x_train, y_train), (x_test, y_test) = load_data()\n",
    "(x_train, y_train_loc), (x_test, y_test_loc) = load_data()"
   ]
  },
  {
   "cell_type": "code",
   "execution_count": 7,
   "id": "d7b0c639-effd-4af4-bf37-cbf5c135ccec",
   "metadata": {},
   "outputs": [
    {
     "name": "stdout",
     "output_type": "stream",
     "text": [
      "(3400, 63, 63)\n",
      "(3400, 2)\n",
      "(600, 63, 63)\n",
      "(600, 2)\n"
     ]
    }
   ],
   "source": [
    "y_train_loc = y_train_loc / 8\n",
    "y_test_loc = y_test_loc / 8\n",
    "print(x_train.shape)\n",
    "print(y_train_loc.shape)\n",
    "print(x_test.shape)\n",
    "print(y_test_loc.shape)"
   ]
  },
  {
   "cell_type": "code",
   "execution_count": 8,
   "id": "3aeb4d4f-7771-462f-bd20-f03b057c560a",
   "metadata": {},
   "outputs": [
    {
     "name": "stdout",
     "output_type": "stream",
     "text": [
      "[[34.75  28.75 ]\n",
      " [19.    26.75 ]\n",
      " [48.625 30.375]\n",
      " ...\n",
      " [43.5   15.125]\n",
      " [44.    17.75 ]\n",
      " [21.875 47.125]]\n"
     ]
    }
   ],
   "source": [
    "print(y_train_loc)"
   ]
  },
  {
   "cell_type": "code",
   "execution_count": 8,
   "id": "2cf147d8-045d-4a2b-ad4e-9c65bcba3c3c",
   "metadata": {},
   "outputs": [],
   "source": [
    "x_train = x_train / 255\n",
    "x_test = x_test / 255"
   ]
  },
  {
   "cell_type": "code",
   "execution_count": 129,
   "id": "56353583-b236-4af9-955e-25f82e376a3a",
   "metadata": {},
   "outputs": [],
   "source": [
    "import tensorflow as tf\n",
    "from tensorflow.keras.models import Model\n",
    "from tensorflow.keras.layers import Input, Conv2D, MaxPooling2D, Flatten, Dense, Dropout\n",
    "from tensorflow.keras.regularizers import l2\n",
    "\n",
    "# Define the input shape based on your image size\n",
    "input_shape = (63, 63, 1)\n",
    "\n",
    "# Define the model architecture with regularization\n",
    "def create_model():\n",
    "    input_layer = Input(shape=input_shape)\n",
    "    \n",
    "    # Convolutional layers with L2 regularization\n",
    "    conv1 = Conv2D(32, (3, 3), activation='relu', kernel_regularizer=l2(0.01))(input_layer)\n",
    "    maxpool1 = MaxPooling2D((2, 2))(conv1)\n",
    "    \n",
    "    conv2 = Conv2D(64, (3, 3), activation='relu', kernel_regularizer=l2(0.01))(maxpool1)\n",
    "    maxpool2 = MaxPooling2D((2, 2))(conv2)\n",
    "    \n",
    "    # Flatten layer\n",
    "    flatten = Flatten()(maxpool2)\n",
    "    \n",
    "    # Dense layers with dropout\n",
    "    dense1 = Dense(128, activation='relu', kernel_regularizer=l2(0.01))(flatten)\n",
    "    dropout1 = Dropout(0.5)(dense1)  # Dropout layer with 50% dropout rate\n",
    "\n",
    "    # Add an additional dense layer with dropout\n",
    "    dense2 = Dense(64, activation='relu', kernel_regularizer=l2(0.01))(dropout1)\n",
    "    dropout2 = Dropout(0.5)(dense2)  # Dropout layer with 50% dropout rate\n",
    "    \n",
    "    output_layer = Dense(2)(dropout2)  # Output layer with 2 neurons for x and y coordinates\n",
    "    \n",
    "    model = Model(inputs=input_layer, outputs=output_layer)\n",
    "    return model\n"
   ]
  },
  {
   "cell_type": "code",
   "execution_count": 9,
   "id": "c15975f9-bdc5-49b5-ab3d-58560d88fa0a",
   "metadata": {},
   "outputs": [
    {
     "name": "stderr",
     "output_type": "stream",
     "text": [
      "2023-09-02 16:01:17.745381: I tensorflow/core/platform/cpu_feature_guard.cc:182] This TensorFlow binary is optimized to use available CPU instructions in performance-critical operations.\n",
      "To enable the following instructions: AVX2 FMA, in other operations, rebuild TensorFlow with the appropriate compiler flags.\n"
     ]
    }
   ],
   "source": [
    "################## LOADING THE MODEL ####################\n",
    "import tensorflow as tf\n",
    "from tensorflow.keras.models import Model\n",
    "from tensorflow.keras.layers import Input, Conv2D, MaxPooling2D, Flatten, Dense, Dropout\n",
    "from tensorflow.keras.regularizers import l2\n",
    "from tensorflow.keras.models import load_model\n",
    "\n",
    "model=load_model('gamma_conv_model_0209-00e31.h5')"
   ]
  },
  {
   "cell_type": "code",
   "execution_count": 130,
   "id": "b8e94732-062d-4534-855d-3de379fd30d5",
   "metadata": {},
   "outputs": [],
   "source": [
    "from tensorflow.keras.callbacks import EarlyStopping\n",
    "model = create_model()\n",
    "\n",
    "# Create EarlyStopping callback\n",
    "early_stopping = EarlyStopping(\n",
    "    monitor='val_loss',  # Monitor validation loss\n",
    "    patience=7,          # Number of epochs with no improvement to wait before stopping\n",
    "    restore_best_weights=True  # Restore model weights from the epoch with the best validation loss\n",
    ")\n",
    "\n",
    "# Compile the model\n",
    "model.compile(optimizer='adam', loss='mean_squared_error', metrics=['accuracy'])"
   ]
  },
  {
   "cell_type": "code",
   "execution_count": null,
   "id": "08224a98-734e-487c-b3d6-b41901f69731",
   "metadata": {},
   "outputs": [],
   "source": [
    "\n",
    "# Train the model using data augmentation\n",
    "batch_size = 32\n",
    "epochs = 5000\n",
    "\n",
    "history = model.fit(\n",
    "    x_train, y_train_loc,\n",
    "    validation_split=0.1,\n",
    "    batch_size=batch_size,\n",
    "    epochs=epochs,\n",
    ")"
   ]
  },
  {
   "cell_type": "code",
   "execution_count": 27,
   "id": "fa2e242a-1046-4a84-9f16-08f732449398",
   "metadata": {},
   "outputs": [
    {
     "name": "stdout",
     "output_type": "stream",
     "text": [
      "1/1 [==============================] - 0s 23ms/step\n"
     ]
    },
    {
     "data": {
      "image/png": "[encoded data removed]",
      "text/plain": [
       "<Figure size 432x288 with 1 Axes>"
      ]
     },
     "metadata": {
      "needs_background": "light"
     },
     "output_type": "display_data"
    }
   ],
   "source": [
    "import numpy as np\n",
    "import matplotlib.pyplot as plt\n",
    "import matplotlib.patches as patches\n",
    "\n",
    "# Assuming you have the model predictions for a test image\n",
    "test_image_index = 223# Change this to the index of the test image you want to visualize\n",
    "test_image = x_test[test_image_index]\n",
    "coord_predictions = model.predict(np.expand_dims(test_image, axis=0))\n",
    "\n",
    "\n",
    "# Extract predicted coordinates\n",
    "predicted_coords = coord_predictions[0]\n",
    "predicted_coords[0] = predicted_coords[0]\n",
    "predicted_coords[1] = predicted_coords[1]\n",
    "#print(coord_predictions)\n",
    "\n",
    "# Display the test image\n",
    "plt.imshow(test_image, cmap='gray')\n",
    "plt.axis('off')\n",
    "\n",
    "# Add bounding box if source is predicted\n",
    "\n",
    "x, y = predicted_coords  # Adjust coordinates according to your format\n",
    "width = height = 10  # Adjust these values according to your desired box size\n",
    "rect = patches.Rectangle((x - width/2, y - height/2), width, height, linewidth=2, edgecolor='r', facecolor='none')\n",
    "plt.gca().add_patch(rect)\n",
    "\n",
    "plt.show()\n"
   ]
  },
  {
   "cell_type": "code",
   "execution_count": 12,
   "id": "a9afc664-b758-4082-aff9-80f3db45de4f",
   "metadata": {},
   "outputs": [
    {
     "name": "stdout",
     "output_type": "stream",
     "text": [
      "Model Saved!\n"
     ]
    },
    {
     "name": "stderr",
     "output_type": "stream",
     "text": [
      "/opt/miniconda3/envs/cta_simulation/lib/python3.8/site-packages/keras/src/engine/training.py:3000: UserWarning: You are saving your model as an HDF5 file via `model.save()`. This file format is considered legacy. We recommend using instead the native Keras format, e.g. `model.save('my_model.keras')`.\n",
      "  saving_api.save_model(\n"
     ]
    }
   ],
   "source": [
    "model.save('gamma_conv_model_0209-00e31.h5')\n",
    "print('Model Saved!')"
   ]
  },
  {
   "cell_type": "code",
   "execution_count": 15,
   "id": "ac519df6-b229-427b-81bd-82e4b8e93c47",
   "metadata": {},
   "outputs": [
    {
     "name": "stdout",
     "output_type": "stream",
     "text": [
      "Model Saved!\n"
     ]
    }
   ],
   "source": [
    "model.save('gamma_conv_model_0209-00e31.keras')\n",
    "print('Model Saved!')"
   ]
  },
  {
   "cell_type": "code",
   "execution_count": null,
   "id": "2ec94466-5f49-4776-92cf-42ed15aea361",
   "metadata": {},
   "outputs": [],
   "source": []
  }
 ],
 "metadata": {
  "kernelspec": {
   "display_name": "Python 3 (ipykernel)",
   "language": "python",
   "name": "python3"
  },
  "language_info": {
   "codemirror_mode": {
    "name": "ipython",
    "version": 3
   },
   "file_extension": ".py",
   "mimetype": "text/x-python",
   "name": "python",
   "nbconvert_exporter": "python",
   "pygments_lexer": "ipython3",
   "version": "3.8.17"
  }
 },
 "nbformat": 4,
 "nbformat_minor": 5
}
