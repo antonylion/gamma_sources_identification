{
 "cells": [
  {
   "cell_type": "code",
   "execution_count": 5,
   "id": "ff4548ab",
   "metadata": {},
   "outputs": [],
   "source": [
    "import os\n",
    "import matplotlib.pyplot as plt\n",
    "import math\n",
    "import cv2\n",
    "import numpy as np"
   ]
  },
  {
   "cell_type": "code",
   "execution_count": 2,
   "id": "ef0480d5-2b62-41ca-8791-4ee89df6230d",
   "metadata": {},
   "outputs": [],
   "source": [
    "NUM_IMAGES_TRAINING_SET = 6800\n",
    "NUM_BKG_TRAINING = 3400\n",
    "NUM_SRC_TRAINING = 3400"
   ]
  },
  {
   "cell_type": "code",
   "execution_count": 3,
   "id": "a14b7fba",
   "metadata": {},
   "outputs": [],
   "source": [
    "data_path = '/Users/antonyzappacosta/Desktop/gamma_sources_identification/CNN_project/source_and_bkg_dataset'\n",
    "# ASSUMING WE ARE DOING BINARY CLASSIFICATION\n",
    "def load_data():\n",
    "    # let's put directly images inside these arrays and not only image paths\n",
    "    x_train = []\n",
    "    y_train = []\n",
    "    x_test = []\n",
    "    y_test = []\n",
    "\n",
    "    train_bkg_count = 0\n",
    "    train_src_count = 0\n",
    "\n",
    "    for img_name in os.listdir(data_path):\n",
    "        img_full_path = data_path + '/' + img_name\n",
    "        image = cv2.imread(img_full_path, cv2.IMREAD_GRAYSCALE)\n",
    "        image = cv2.pyrDown(image)\n",
    "        image = cv2.pyrDown(image)\n",
    "        image = cv2.pyrDown(image)\n",
    "        if img_name[0] == 'B': #background image\n",
    "            if train_bkg_count < NUM_BKG_TRAINING: # append in training set\n",
    "                x_train.append(image)\n",
    "                y_train.append(0)\n",
    "                train_bkg_count += 1\n",
    "            else: # append in test set\n",
    "                x_test.append(image)\n",
    "                y_test.append(0)\n",
    "        else: #source image\n",
    "            if train_src_count < NUM_SRC_TRAINING:\n",
    "                x_train.append(image)\n",
    "                y_train.append(1)\n",
    "                train_src_count += 1\n",
    "            else: # append in test set\n",
    "                x_test.append(image)\n",
    "                y_test.append(1)\n",
    "\n",
    "    # at the end of the for loop we should have the split dataset\n",
    "    x_train = np.array(x_train)\n",
    "    y_train = np.array(y_train)\n",
    "    x_test = np.array(x_test)\n",
    "    y_test = np.array(y_test)\n",
    "    return (x_train, y_train), (x_test, y_test)"
   ]
  },
  {
   "cell_type": "code",
   "execution_count": 6,
   "id": "9e10d283-930b-4de8-ae69-d15f0c30054e",
   "metadata": {},
   "outputs": [],
   "source": [
    "(x_train, y_train), (x_test, y_test) = load_data()"
   ]
  },
  {
   "cell_type": "code",
   "execution_count": 7,
   "id": "1b6b581c-a70d-47ae-8706-d3d137677880",
   "metadata": {},
   "outputs": [
    {
     "name": "stdout",
     "output_type": "stream",
     "text": [
      "(6800, 63, 63)\n",
      "(6800,)\n",
      "(1200, 63, 63)\n",
      "(1200,)\n"
     ]
    }
   ],
   "source": [
    "print(x_train.shape)\n",
    "print(y_train.shape)\n",
    "print(x_test.shape)\n",
    "print(y_test.shape)"
   ]
  },
  {
   "cell_type": "code",
   "execution_count": 5,
   "id": "1b34afee-2c39-42b1-886a-78da2b55fa80",
   "metadata": {},
   "outputs": [],
   "source": [
    "# ok so we have the whole loaded dataset. Each image is of course made of 3 channels. Let's see how a\n",
    "# possible CNN behave"
   ]
  },
  {
   "cell_type": "code",
   "execution_count": 8,
   "id": "7a350db1-8986-4619-be7c-674d6380e6f7",
   "metadata": {},
   "outputs": [],
   "source": [
    "# Normalization\n",
    "x_train = x_train / 255\n",
    "x_test = x_test / 255"
   ]
  },
  {
   "cell_type": "code",
   "execution_count": 7,
   "id": "68a6267a-e319-4754-bfe7-0d076a313f1c",
   "metadata": {},
   "outputs": [],
   "source": [
    "# BUILING THE CONVOLUTIONAL NEURAL NETWORKS"
   ]
  },
  {
   "cell_type": "code",
   "execution_count": 8,
   "id": "f45b8c75-3f24-4751-b664-975e6435c92b",
   "metadata": {},
   "outputs": [
    {
     "name": "stderr",
     "output_type": "stream",
     "text": [
      "2023-09-02 16:51:18.737582: I tensorflow/core/platform/cpu_feature_guard.cc:182] This TensorFlow binary is optimized to use available CPU instructions in performance-critical operations.\n",
      "To enable the following instructions: AVX2 FMA, in other operations, rebuild TensorFlow with the appropriate compiler flags.\n"
     ]
    }
   ],
   "source": [
    "import tensorflow as tf\n",
    "from tensorflow import keras"
   ]
  },
  {
   "cell_type": "code",
   "execution_count": 9,
   "id": "04528ee4-3902-4c0a-878e-76ddd73c9b5e",
   "metadata": {},
   "outputs": [],
   "source": [
    "num_of_classes = 2\n",
    "\n",
    "model = keras.Sequential()\n",
    "#before we included all the layers in the \"constructor of Sequential\", but we can also do model.add\n",
    "model.add(keras.layers.Conv2D(32, kernel_size=(3, 3), activation='relu', input_shape=(63, 63, 3))) # the input shape only in the first layer\n",
    "model.add(keras.layers.MaxPooling2D(pool_size=(2, 2)))\n",
    "\n",
    "model.add(keras.layers.Conv2D(64, kernel_size=(3, 3), activation='relu'))\n",
    "model.add(keras.layers.MaxPooling2D(pool_size=(2, 2)))\n",
    "\n",
    "model.add(keras.layers.Flatten())\n",
    "\n",
    "model.add(keras.layers.Dense(128, activation='relu'))\n",
    "model.add(keras.layers.Dropout(0.5)) #just to fight overfitting, we drop some (neurons?)\n",
    "\n",
    "model.add(keras.layers.Dense(64, activation='relu'))\n",
    "model.add(keras.layers.Dropout(0.5))\n",
    "\n",
    "model.add(keras.layers.Dense(num_of_classes, activation='sigmoid')) #sigmoid because we're doing binary classification."
   ]
  },
  {
   "cell_type": "code",
   "execution_count": 10,
   "id": "6d1d74d7-ac0d-4665-88f7-cf38bb5659f7",
   "metadata": {},
   "outputs": [],
   "source": [
    "# compile\n",
    "\n",
    "model.compile(optimizer = 'adam',\n",
    "              loss='sparse_categorical_crossentropy',\n",
    "              metrics=['acc'])"
   ]
  },
  {
   "cell_type": "code",
   "execution_count": 14,
   "id": "98daf769-09d9-48b8-99d4-3e44984d2916",
   "metadata": {},
   "outputs": [
    {
     "name": "stdout",
     "output_type": "stream",
     "text": [
      "Epoch 1/10\n",
      "45/45 [==============================] - 7s 156ms/step - loss: 0.2313 - acc: 0.8840 - val_loss: 0.4283 - val_acc: 0.8562\n",
      "Epoch 2/10\n",
      "45/45 [==============================] - 7s 144ms/step - loss: 0.2175 - acc: 0.8944 - val_loss: 0.6263 - val_acc: 0.8000\n",
      "Epoch 3/10\n",
      "45/45 [==============================] - 7s 152ms/step - loss: 0.2055 - acc: 0.9042 - val_loss: 0.4114 - val_acc: 0.8500\n",
      "Epoch 4/10\n",
      "45/45 [==============================] - 7s 146ms/step - loss: 0.2045 - acc: 0.8979 - val_loss: 0.7918 - val_acc: 0.7750\n",
      "Epoch 5/10\n",
      "45/45 [==============================] - 6s 144ms/step - loss: 0.2035 - acc: 0.8951 - val_loss: 0.5381 - val_acc: 0.8125\n",
      "Epoch 6/10\n",
      "45/45 [==============================] - 7s 147ms/step - loss: 0.2024 - acc: 0.8910 - val_loss: 0.8329 - val_acc: 0.7625\n",
      "Epoch 7/10\n",
      "45/45 [==============================] - 7s 158ms/step - loss: 0.1873 - acc: 0.9076 - val_loss: 0.8030 - val_acc: 0.7563\n",
      "Epoch 8/10\n",
      "45/45 [==============================] - 6s 134ms/step - loss: 0.1799 - acc: 0.9069 - val_loss: 0.4871 - val_acc: 0.8062\n",
      "Epoch 9/10\n",
      "45/45 [==============================] - 6s 135ms/step - loss: 0.1832 - acc: 0.9076 - val_loss: 0.5836 - val_acc: 0.7750\n",
      "Epoch 10/10\n",
      "45/45 [==============================] - 7s 152ms/step - loss: 0.1642 - acc: 0.9125 - val_loss: 0.5721 - val_acc: 0.7625\n"
     ]
    }
   ],
   "source": [
    "# training the neural network\n",
    "history = model.fit(x_train, y_train, validation_split=0.1, epochs=10) #+20 = 30\n",
    "#few epochs for avoiding overtraining"
   ]
  },
  {
   "cell_type": "code",
   "execution_count": 15,
   "id": "237f7450-2c10-4dc7-9ea0-b6815c418a27",
   "metadata": {},
   "outputs": [
    {
     "name": "stdout",
     "output_type": "stream",
     "text": [
      "13/13 [==============================] - 0s 29ms/step - loss: 0.4109 - acc: 0.8475\n",
      "Test Accuracy = 0.8475000262260437\n"
     ]
    }
   ],
   "source": [
    "loss, accuracy = model.evaluate(x_test, y_test)\n",
    "print('Test Accuracy =', accuracy)"
   ]
  },
  {
   "cell_type": "markdown",
   "id": "e92d3deb-5739-41ee-9eeb-dabb7b5582ea",
   "metadata": {},
   "source": [
    "## Now let's try to optimize the model and let's look at the results"
   ]
  },
  {
   "cell_type": "code",
   "execution_count": 16,
   "id": "1a8f4ed0-b886-487b-bba0-d742667d7504",
   "metadata": {},
   "outputs": [],
   "source": [
    "num_of_classes = 2\n",
    "\n",
    "model = keras.Sequential()\n",
    "\n",
    "model.add(keras.layers.Conv2D(32, kernel_size=(3, 3), activation='relu', input_shape=(63, 63, 1)))\n",
    "model.add(keras.layers.BatchNormalization())\n",
    "model.add(keras.layers.MaxPooling2D(pool_size=(2, 2)))\n",
    "\n",
    "model.add(keras.layers.Conv2D(64, kernel_size=(3, 3), activation='relu'))\n",
    "model.add(keras.layers.BatchNormalization())\n",
    "model.add(keras.layers.MaxPooling2D(pool_size=(2, 2)))\n",
    "\n",
    "model.add(keras.layers.Flatten())\n",
    "\n",
    "model.add(keras.layers.Dense(128, activation='relu'))\n",
    "model.add(keras.layers.BatchNormalization())\n",
    "model.add(keras.layers.Dropout(0.5))\n",
    "\n",
    "model.add(keras.layers.Dense(64, activation='relu'))\n",
    "model.add(keras.layers.BatchNormalization())\n",
    "model.add(keras.layers.Dropout(0.5))\n",
    "\n",
    "model.add(keras.layers.Dense(num_of_classes, activation='sigmoid'))"
   ]
  },
  {
   "cell_type": "code",
   "execution_count": 17,
   "id": "86183333-882e-4964-b398-17158416a854",
   "metadata": {},
   "outputs": [],
   "source": [
    "model.compile(optimizer = 'adam',\n",
    "              loss='sparse_categorical_crossentropy',\n",
    "              metrics=['acc'])"
   ]
  },
  {
   "cell_type": "code",
   "execution_count": 18,
   "id": "fd2731db-08a0-4f3c-b866-78b00d04ee3b",
   "metadata": {},
   "outputs": [
    {
     "name": "stdout",
     "output_type": "stream",
     "text": [
      "Epoch 1/5\n",
      "192/192 [==============================] - 25s 121ms/step - loss: 0.4422 - acc: 0.8278 - val_loss: 2.4801 - val_acc: 0.5265\n",
      "Epoch 2/5\n",
      "192/192 [==============================] - 24s 123ms/step - loss: 0.3185 - acc: 0.8703 - val_loss: 1.8853 - val_acc: 0.5265\n",
      "Epoch 3/5\n",
      "192/192 [==============================] - 24s 125ms/step - loss: 0.2497 - acc: 0.9072 - val_loss: 0.6419 - val_acc: 0.6529\n",
      "Epoch 4/5\n",
      "192/192 [==============================] - 24s 124ms/step - loss: 0.2074 - acc: 0.9203 - val_loss: 0.2439 - val_acc: 0.9088\n",
      "Epoch 5/5\n",
      "192/192 [==============================] - 23s 122ms/step - loss: 0.1907 - acc: 0.9253 - val_loss: 0.2515 - val_acc: 0.9074\n"
     ]
    }
   ],
   "source": [
    "#from keras.utils import to_categorical\n",
    "#y_train_one_hot = to_categorical(y_train, num_classes=2)\n",
    "history = model.fit(x_train, y_train, validation_split=0.1, epochs=5) #=15"
   ]
  },
  {
   "cell_type": "code",
   "execution_count": 19,
   "id": "3ce216a7-53da-4a77-8f6f-aeecbdaf181d",
   "metadata": {},
   "outputs": [
    {
     "name": "stdout",
     "output_type": "stream",
     "text": [
      "38/38 [==============================] - 2s 46ms/step - loss: 0.2299 - acc: 0.9025\n",
      "Test Accuracy = 0.9024999737739563\n"
     ]
    }
   ],
   "source": [
    "loss, accuracy = model.evaluate(x_test, y_test)\n",
    "print('Test Accuracy =', accuracy)"
   ]
  },
  {
   "cell_type": "code",
   "execution_count": 20,
   "id": "7a012c0d-3bb3-4fe9-aa39-e5eb00228981",
   "metadata": {},
   "outputs": [
    {
     "data": {
      "text/plain": [
       "<matplotlib.legend.Legend at 0x7f9bb505c1c0>"
      ]
     },
     "execution_count": 20,
     "metadata": {},
     "output_type": "execute_result"
    },
    {
     "data": {
      "image/png": "[encoded data removed]",
      "text/plain": [
       "<Figure size 432x288 with 1 Axes>"
      ]
     },
     "metadata": {
      "needs_background": "light"
     },
     "output_type": "display_data"
    }
   ],
   "source": [
    "# Plot loss per iteration\n",
    "r = history\n",
    "plt.plot(r.history['loss'], label='loss')\n",
    "plt.plot(r.history['val_loss'], label ='val_loss')\n",
    "plt.legend()"
   ]
  },
  {
   "cell_type": "code",
   "execution_count": 21,
   "id": "9cd6eac9-07af-4f2b-a06a-65c434ffeef7",
   "metadata": {},
   "outputs": [
    {
     "data": {
      "text/plain": [
       "<matplotlib.legend.Legend at 0x7f9bb7c694c0>"
      ]
     },
     "execution_count": 21,
     "metadata": {},
     "output_type": "execute_result"
    },
    {
     "data": {
      "image/png": "[encoded data removed]",
      "text/plain": [
       "<Figure size 432x288 with 1 Axes>"
      ]
     },
     "metadata": {
      "needs_background": "light"
     },
     "output_type": "display_data"
    }
   ],
   "source": [
    "# Plot accuracy per iteration\n",
    "plt.plot(r.history['acc'], label = 'acc')\n",
    "plt.plot(r.history['val_acc'], label = 'val_acc')\n",
    "plt.legend()"
   ]
  },
  {
   "cell_type": "code",
   "execution_count": 33,
   "id": "400bae25-9580-4568-ad85-9876f7b0fc17",
   "metadata": {},
   "outputs": [
    {
     "data": {
      "text/plain": [
       "[0.9333333373069763]"
      ]
     },
     "execution_count": 33,
     "metadata": {},
     "output_type": "execute_result"
    }
   ],
   "source": [
    "r.history['acc']"
   ]
  },
  {
   "cell_type": "code",
   "execution_count": 22,
   "id": "d9aa090f-0f17-45be-a056-785a86d46839",
   "metadata": {},
   "outputs": [
    {
     "name": "stdout",
     "output_type": "stream",
     "text": [
      "Model Saved!\n"
     ]
    },
    {
     "name": "stderr",
     "output_type": "stream",
     "text": [
      "/opt/miniconda3/envs/cta_simulation/lib/python3.8/site-packages/keras/src/engine/training.py:3000: UserWarning: You are saving your model as an HDF5 file via `model.save()`. This file format is considered legacy. We recommend using instead the native Keras format, e.g. `model.save('my_model.keras')`.\n",
      "  saving_api.save_model(\n"
     ]
    }
   ],
   "source": [
    "model.save('classification_gamma_conv_model_0209-18e49.h5')\n",
    "print('Model Saved!')"
   ]
  },
  {
   "cell_type": "code",
   "execution_count": 23,
   "id": "ada491bf-986e-45a4-a6d3-ef98a478caca",
   "metadata": {},
   "outputs": [
    {
     "name": "stdout",
     "output_type": "stream",
     "text": [
      "Model Saved!\n"
     ]
    }
   ],
   "source": [
    "model.save('classification_gamma_conv_model_0209-18e49.keras')\n",
    "print('Model Saved!')"
   ]
  },
  {
   "cell_type": "markdown",
   "id": "1174bb31-dcf3-462f-a506-c3ebf51ff6d8",
   "metadata": {},
   "source": [
    "# Revised model architecture for uniformity with the localization architecture"
   ]
  },
  {
   "cell_type": "code",
   "execution_count": 9,
   "id": "0b303d6e-5555-44ef-973c-aa2358718009",
   "metadata": {},
   "outputs": [],
   "source": [
    "import tensorflow as tf\n",
    "from tensorflow.keras.layers import Input, Conv2D, BatchNormalization, MaxPooling2D, Flatten, Dense, Dropout\n",
    "\n",
    "num_of_classes = 2\n",
    "\n",
    "# Define the input shape\n",
    "input_shape = (63, 63, 1)\n",
    "input_layer = Input(shape=input_shape)\n",
    "\n",
    "# Convolutional layers\n",
    "conv1 = Conv2D(32, kernel_size=(3, 3), activation='relu')(input_layer)\n",
    "batchnorm1 = BatchNormalization()(conv1)\n",
    "maxpool1 = MaxPooling2D(pool_size=(2, 2))(batchnorm1)\n",
    "\n",
    "conv2 = Conv2D(64, kernel_size=(3, 3), activation='relu')(maxpool1)\n",
    "batchnorm2 = BatchNormalization()(conv2)\n",
    "maxpool2 = MaxPooling2D(pool_size=(2, 2))(batchnorm2)\n",
    "\n",
    "# Flatten layer\n",
    "flatten = Flatten()(maxpool2)\n",
    "\n",
    "# Dense layers with dropout\n",
    "dense1 = Dense(128, activation='relu')(flatten)\n",
    "batchnorm3 = BatchNormalization()(dense1)\n",
    "dropout1 = Dropout(0.5)(batchnorm3)\n",
    "\n",
    "dense2 = Dense(64, activation='relu')(dropout1)\n",
    "batchnorm4 = BatchNormalization()(dense2)\n",
    "dropout2 = Dropout(0.5)(batchnorm4)\n",
    "\n",
    "# Output layer\n",
    "output_layer = Dense(num_of_classes, activation='sigmoid')(dropout2)\n",
    "\n",
    "# Create the model\n",
    "model = tf.keras.Model(inputs=input_layer, outputs=output_layer)\n"
   ]
  },
  {
   "cell_type": "code",
   "execution_count": 10,
   "id": "1f9712bf-5a6f-4e7e-95cc-e9c362e5d06d",
   "metadata": {},
   "outputs": [],
   "source": [
    "model.compile(optimizer = 'adam',\n",
    "              loss='sparse_categorical_crossentropy',\n",
    "              metrics=['acc'])"
   ]
  },
  {
   "cell_type": "code",
   "execution_count": 13,
   "id": "cf272971-e734-422d-aea8-a152f0f0dd0f",
   "metadata": {},
   "outputs": [
    {
     "name": "stdout",
     "output_type": "stream",
     "text": [
      "192/192 [==============================] - 25s 130ms/step - loss: 0.1567 - acc: 0.9394 - val_loss: 0.2847 - val_acc: 0.9074\n"
     ]
    }
   ],
   "source": [
    "history = model.fit(x_train, y_train, validation_split=0.1, epochs=1) #=6"
   ]
  },
  {
   "cell_type": "code",
   "execution_count": 14,
   "id": "830b59c0-0a33-47ac-9cce-d60735c1a921",
   "metadata": {},
   "outputs": [
    {
     "name": "stdout",
     "output_type": "stream",
     "text": [
      "38/38 [==============================] - 2s 44ms/step - loss: 0.2612 - acc: 0.9100\n",
      "Test Accuracy = 0.9100000262260437\n"
     ]
    }
   ],
   "source": [
    "loss, accuracy = model.evaluate(x_test, y_test)\n",
    "print('Test Accuracy =', accuracy)"
   ]
  },
  {
   "cell_type": "code",
   "execution_count": 15,
   "id": "99ccc961-810e-4fd8-8b42-9ede93ccf80a",
   "metadata": {},
   "outputs": [],
   "source": [
    "import visualkeras\n",
    "from collections import defaultdict"
   ]
  },
  {
   "cell_type": "code",
   "execution_count": 25,
   "id": "6ed16059-e17b-49d9-a5ba-de44c1faabbe",
   "metadata": {},
   "outputs": [],
   "source": [
    "color_map = defaultdict(dict)\n",
    "color_map[Dense]['fill'] = 'brown'\n",
    "color_map[Dropout]['fill'] = 'yellow'\n",
    "visualkeras.layered_view(model, legend=True, color_map=color_map).show()"
   ]
  },
  {
   "cell_type": "code",
   "execution_count": null,
   "id": "f67d60a2-5470-408e-bfd0-931ef975b7c9",
   "metadata": {},
   "outputs": [],
   "source": []
  }
 ],
 "metadata": {
  "kernelspec": {
   "display_name": "Python 3 (ipykernel)",
   "language": "python",
   "name": "python3"
  },
  "language_info": {
   "codemirror_mode": {
    "name": "ipython",
    "version": 3
   },
   "file_extension": ".py",
   "mimetype": "text/x-python",
   "name": "python",
   "nbconvert_exporter": "python",
   "pygments_lexer": "ipython3",
   "version": "3.8.17"
  }
 },
 "nbformat": 4,
 "nbformat_minor": 5
}
